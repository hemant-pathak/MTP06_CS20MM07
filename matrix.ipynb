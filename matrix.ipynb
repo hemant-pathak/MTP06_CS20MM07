{
  "nbformat": 4,
  "nbformat_minor": 0,
  "metadata": {
    "colab": {
      "name": "matrix.ipynb",
      "provenance": []
    },
    "kernelspec": {
      "name": "python3",
      "display_name": "Python 3"
    },
    "language_info": {
      "name": "python"
    },
    "accelerator": "GPU"
  },
  "cells": [
    {
      "cell_type": "code",
      "source": [
        "!nvcc --version"
      ],
      "metadata": {
        "colab": {
          "base_uri": "https://localhost:8080/"
        },
        "id": "KGzuhnVua-ac",
        "outputId": "55b18e89-c73f-4e6c-b912-96e95dd1ca4e"
      },
      "execution_count": null,
      "outputs": [
        {
          "output_type": "stream",
          "name": "stdout",
          "text": [
            "nvcc: NVIDIA (R) Cuda compiler driver\n",
            "Copyright (c) 2005-2020 NVIDIA Corporation\n",
            "Built on Mon_Oct_12_20:09:46_PDT_2020\n",
            "Cuda compilation tools, release 11.1, V11.1.105\n",
            "Build cuda_11.1.TC455_06.29190527_0\n"
          ]
        }
      ]
    },
    {
      "cell_type": "code",
      "source": [
        "!pip install git+https://github.com/andreinechaev/nvcc4jupyter.git"
      ],
      "metadata": {
        "colab": {
          "base_uri": "https://localhost:8080/"
        },
        "id": "eLpbShmPbJqH",
        "outputId": "cef5eaf5-b74a-4ede-8ba1-65ccdf396045"
      },
      "execution_count": null,
      "outputs": [
        {
          "output_type": "stream",
          "name": "stdout",
          "text": [
            "Looking in indexes: https://pypi.org/simple, https://us-python.pkg.dev/colab-wheels/public/simple/\n",
            "Collecting git+https://github.com/andreinechaev/nvcc4jupyter.git\n",
            "  Cloning https://github.com/andreinechaev/nvcc4jupyter.git to /tmp/pip-req-build-t1u2p3co\n",
            "  Running command git clone -q https://github.com/andreinechaev/nvcc4jupyter.git /tmp/pip-req-build-t1u2p3co\n",
            "Building wheels for collected packages: NVCCPlugin\n",
            "  Building wheel for NVCCPlugin (setup.py) ... \u001b[?25l\u001b[?25hdone\n",
            "  Created wheel for NVCCPlugin: filename=NVCCPlugin-0.0.2-py3-none-any.whl size=4306 sha256=c67f2e025cecafb2d97414206060485ac99ca778b17cdf98d769e8fc7ff83614\n",
            "  Stored in directory: /tmp/pip-ephem-wheel-cache-2dhd8xo2/wheels/ca/33/8d/3c86eb85e97d2b6169d95c6e8f2c297fdec60db6e84cb56f5e\n",
            "Successfully built NVCCPlugin\n",
            "Installing collected packages: NVCCPlugin\n",
            "Successfully installed NVCCPlugin-0.0.2\n"
          ]
        }
      ]
    },
    {
      "cell_type": "code",
      "source": [
        "%load_ext nvcc_plugin"
      ],
      "metadata": {
        "colab": {
          "base_uri": "https://localhost:8080/"
        },
        "id": "7wWPMA4wbOUU",
        "outputId": "ea33bf10-a48c-4594-f084-198c3ea0fbae"
      },
      "execution_count": null,
      "outputs": [
        {
          "output_type": "stream",
          "name": "stdout",
          "text": [
            "created output directory at /content/src\n",
            "Out bin /content/result.out\n"
          ]
        }
      ]
    },
    {
      "cell_type": "code",
      "source": [
        "%%cu\n",
        "#include <iostream>\n",
        "    int\n",
        "    main()\n",
        "{\n",
        "    std::cout << \"Welcome To GeeksforGeeks\\n\";\n",
        "    return 0;\n",
        "}"
      ],
      "metadata": {
        "colab": {
          "base_uri": "https://localhost:8080/"
        },
        "id": "K-grmj2ybWYe",
        "outputId": "7056f257-e429-43f6-8b69-23c683eb0cf7"
      },
      "execution_count": null,
      "outputs": [
        {
          "output_type": "stream",
          "name": "stdout",
          "text": [
            "Welcome To GeeksforGeeks\n",
            "\n"
          ]
        }
      ]
    },
    {
      "cell_type": "code",
      "source": [
        "%%cu\n",
        "#include <stdio.h>\n",
        "#include <stdlib.h>\n",
        "#include <assert.h>\n",
        "\n",
        "#define BLOCK_SIZE 16\n",
        "\n",
        "__global__ void gpu_matrix_mult(int *a,int *b, int *c, int m, int n, int k)\n",
        "{ \n",
        "    int row = blockIdx.y * blockDim.y + threadIdx.y; \n",
        "    int col = blockIdx.x * blockDim.x + threadIdx.x;\n",
        "    int sum = 0;\n",
        "    if( col < k && row < m) \n",
        "    {\n",
        "        for(int i = 0; i < n; i++) \n",
        "        {\n",
        "            sum += a[row * n + i] * b[i * k + col];\n",
        "        }\n",
        "        c[row * k + col] = sum;\n",
        "    }\n",
        "}\n",
        "\n",
        "__global__ void gpu_square_matrix_mult(int *d_a, int *d_b, int *d_result, int n) \n",
        "{\n",
        "    __shared__ int tile_a[BLOCK_SIZE][BLOCK_SIZE];\n",
        "    __shared__ int tile_b[BLOCK_SIZE][BLOCK_SIZE];\n",
        "\n",
        "    int row = blockIdx.y * BLOCK_SIZE + threadIdx.y;\n",
        "    int col = blockIdx.x * BLOCK_SIZE + threadIdx.x;\n",
        "    int tmp = 0;\n",
        "    int idx;\n",
        "\n",
        "    for (int sub = 0; sub < gridDim.x; ++sub) \n",
        "    {\n",
        "        idx = row * n + sub * BLOCK_SIZE + threadIdx.x;\n",
        "        if(idx >= n*n)\n",
        "        {\n",
        "            // n may not divisible by BLOCK_SIZE\n",
        "            tile_a[threadIdx.y][threadIdx.x] = 0;\n",
        "        }\n",
        "        else\n",
        "        {\n",
        "            tile_a[threadIdx.y][threadIdx.x] = d_a[idx];\n",
        "        }\n",
        "\n",
        "        idx = (sub * BLOCK_SIZE + threadIdx.y) * n + col;\n",
        "        if(idx >= n*n)\n",
        "        {\n",
        "            tile_b[threadIdx.y][threadIdx.x] = 0;\n",
        "        }  \n",
        "        else\n",
        "        {\n",
        "            tile_b[threadIdx.y][threadIdx.x] = d_b[idx];\n",
        "        }\n",
        "        __syncthreads();\n",
        "\n",
        "        for (int k = 0; k < BLOCK_SIZE; ++k) \n",
        "        {\n",
        "            tmp += tile_a[threadIdx.y][k] * tile_b[k][threadIdx.x];\n",
        "        }\n",
        "        __syncthreads();\n",
        "    }\n",
        "    if(row < n && col < n)\n",
        "    {\n",
        "        d_result[row * n + col] = tmp;\n",
        "    }\n",
        "}\n",
        "\n",
        "\n",
        "__global__ void gpu_matrix_transpose(int* mat_in, int* mat_out, unsigned int rows, unsigned int cols) \n",
        "{\n",
        "    unsigned int idx = blockIdx.x * blockDim.x + threadIdx.x;\n",
        "    unsigned int idy = blockIdx.y * blockDim.y + threadIdx.y;\n",
        "\n",
        "    if (idx < cols && idy < rows) \n",
        "    {\n",
        "        unsigned int pos = idy * cols + idx;\n",
        "        unsigned int trans_pos = idx * rows + idy;\n",
        "        mat_out[trans_pos] = mat_in[pos];\n",
        "    }\n",
        "}\n",
        "\n",
        "void cpu_matrix_mult(int *h_a, int *h_b, int *h_result, int m, int n, int k) {\n",
        "    for (int i = 0; i < m; ++i) \n",
        "    {\n",
        "        for (int j = 0; j < k; ++j) \n",
        "        {\n",
        "            int tmp = 0.0;\n",
        "            for (int h = 0; h < n; ++h) \n",
        "            {\n",
        "                tmp += h_a[i * n + h] * h_b[h * k + j];\n",
        "            }\n",
        "            h_result[i * k + j] = tmp;\n",
        "        }\n",
        "    }\n",
        "}\n",
        "\n",
        "\n",
        "int main(int argc, char const *argv[])\n",
        "{\n",
        "    int m, n, k;\n",
        "        m=256;\n",
        "        n=256;\n",
        "        k=256;\n",
        "    /* Fixed seed for illustration */\n",
        "    srand(3333);\n",
        "    //printf(\"please type in m n and k\\n\");\n",
        "    //scanf(\"%d %d %d\", &m, &n, &k);\n",
        "\n",
        "    // allocate memory in host RAM, h_cc is used to store CPU result\n",
        "    int *h_a, *h_b, *h_c, *h_cc;\n",
        "    cudaMallocHost((void **) &h_a, sizeof(int)*m*n);\n",
        "    cudaMallocHost((void **) &h_b, sizeof(int)*n*k);\n",
        "    cudaMallocHost((void **) &h_c, sizeof(int)*m*k);\n",
        "    cudaMallocHost((void **) &h_cc, sizeof(int)*m*k);\n",
        "\n",
        "    // random initialize matrix A\n",
        "    for (int i = 0; i < m; ++i) {\n",
        "        for (int j = 0; j < n; ++j) {\n",
        "            h_a[i * n + j] = rand() % 1024;\n",
        "        }\n",
        "    }\n",
        "\n",
        "    // random initialize matrix B\n",
        "    for (int i = 0; i < n; ++i) {\n",
        "        for (int j = 0; j < k; ++j) {\n",
        "            h_b[i * k + j] = rand() % 1024;\n",
        "        }\n",
        "    }\n",
        "\n",
        "    float gpu_elapsed_time_ms, cpu_elapsed_time_ms;\n",
        "\n",
        "    // some events to count the execution time\n",
        "    cudaEvent_t start, stop;\n",
        "    cudaEventCreate(&start);\n",
        "    cudaEventCreate(&stop);\n",
        "\n",
        "    // start to count execution time of GPU version\n",
        "    cudaEventRecord(start, 0);\n",
        "    // Allocate memory space on the device \n",
        "    int *d_a, *d_b, *d_c;\n",
        "    cudaMalloc((void **) &d_a, sizeof(int)*m*n);\n",
        "    cudaMalloc((void **) &d_b, sizeof(int)*n*k);\n",
        "    cudaMalloc((void **) &d_c, sizeof(int)*m*k);\n",
        "\n",
        "    // copy matrix A and B from host to device memory\n",
        "    cudaMemcpy(d_a, h_a, sizeof(int)*m*n, cudaMemcpyHostToDevice);\n",
        "    cudaMemcpy(d_b, h_b, sizeof(int)*n*k, cudaMemcpyHostToDevice);\n",
        "\n",
        "    unsigned int grid_rows = (m + BLOCK_SIZE - 1) / BLOCK_SIZE;\n",
        "    unsigned int grid_cols = (k + BLOCK_SIZE - 1) / BLOCK_SIZE;\n",
        "    dim3 dimGrid(grid_cols, grid_rows);\n",
        "    dim3 dimBlock(BLOCK_SIZE, BLOCK_SIZE);\n",
        "   \n",
        "    // Launch kernel \n",
        "    if(m == n && n == k)\n",
        "    {\n",
        "        gpu_square_matrix_mult<<<dimGrid, dimBlock>>>(d_a, d_b, d_c, n);    \n",
        "    }\n",
        "    else\n",
        "    {\n",
        "        gpu_matrix_mult<<<dimGrid, dimBlock>>>(d_a, d_b, d_c, m, n, k);    \n",
        "    }\n",
        "    // Transefr results from device to host \n",
        "    cudaMemcpy(h_c, d_c, sizeof(int)*m*k, cudaMemcpyDeviceToHost);\n",
        "    cudaThreadSynchronize();\n",
        "    // time counting terminate\n",
        "    cudaEventRecord(stop, 0);\n",
        "    cudaEventSynchronize(stop);\n",
        "\n",
        "    // compute time elapse on GPU computing\n",
        "    cudaEventElapsedTime(&gpu_elapsed_time_ms, start, stop);\n",
        "    printf(\"Time elapsed on matrix multiplication of %dx%d . %dx%d on GPU: %f ms.\\n\\n\", m, n, n, k, gpu_elapsed_time_ms);\n",
        "\n",
        "    // start the CPU version\n",
        "    cudaEventRecord(start, 0);\n",
        "\n",
        "    cpu_matrix_mult(h_a, h_b, h_cc, m, n, k);\n",
        "\n",
        "    cudaEventRecord(stop, 0);\n",
        "    cudaEventSynchronize(stop);\n",
        "    cudaEventElapsedTime(&cpu_elapsed_time_ms, start, stop);\n",
        "    printf(\"Time elapsed on matrix multiplication of %dx%d . %dx%d on CPU: %f ms.\\n\\n\", m, n, n, k, cpu_elapsed_time_ms);\n",
        "\n",
        "    // validate results computed by GPU\n",
        "    int all_ok = 1;\n",
        "    for (int i = 0; i < m; ++i)\n",
        "    {\n",
        "        for (int j = 0; j < k; ++j)\n",
        "        {\n",
        "            //printf(\"[%d][%d]:%d == [%d][%d]:%d, \", i, j, h_cc[i*k + j], i, j, h_c[i*k + j]);\n",
        "            if(h_cc[i*k + j] != h_c[i*k + j])\n",
        "            {\n",
        "                all_ok = 0;\n",
        "            }\n",
        "        }\n",
        "        //printf(\"\\n\");\n",
        "    }\n",
        "\n",
        "    // roughly compute speedup\n",
        "    if(all_ok)\n",
        "    {\n",
        "        printf(\"all results are correct!!!, speedup = %f\\n\", cpu_elapsed_time_ms / gpu_elapsed_time_ms);\n",
        "    }\n",
        "    else\n",
        "    {\n",
        "        printf(\"incorrect results\\n\");\n",
        "    }\n",
        "\n",
        "    // free memory\n",
        "    cudaFree(d_a);\n",
        "    cudaFree(d_b);\n",
        "    cudaFree(d_c);\n",
        "    cudaFreeHost(h_a);\n",
        "    cudaFreeHost(h_b);\n",
        "    cudaFreeHost(h_c);\n",
        "    cudaFreeHost(h_cc);\n",
        "    return 0;\n",
        "}"
      ],
      "metadata": {
        "colab": {
          "base_uri": "https://localhost:8080/"
        },
        "id": "hJUAAoTvcN6u",
        "outputId": "16a9932f-fa42-4565-9845-0292937c4899"
      },
      "execution_count": null,
      "outputs": [
        {
          "output_type": "stream",
          "name": "stdout",
          "text": [
            "Time elapsed on matrix multiplication of 10x10 . 10x10 on GPU: 0.200832 ms.\n",
            "\n",
            "Time elapsed on matrix multiplication of 10x10 . 10x10 on CPU: 0.004192 ms.\n",
            "\n",
            "all results are correct!!!, speedup = 0.020873\n",
            "\n"
          ]
        }
      ]
    }
  ]
}